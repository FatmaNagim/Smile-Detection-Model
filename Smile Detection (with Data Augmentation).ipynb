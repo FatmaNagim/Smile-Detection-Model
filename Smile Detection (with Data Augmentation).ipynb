{
 "cells": [
  {
   "cell_type": "code",
   "execution_count": 1,
   "id": "e4ecffb1",
   "metadata": {},
   "outputs": [],
   "source": [
    "import glob\n",
    "from PIL import Image\n",
    "import numpy as np\n",
    "from sklearn.model_selection import train_test_split\n",
    "from tensorflow import keras \n",
    "from sklearn.preprocessing import LabelEncoder\n",
    "from tensorflow.keras import Model\n",
    "from tensorflow.keras.layers import *\n",
    "from tensorflow.keras import layers\n",
    "from tensorflow.keras.preprocessing.image import *\n",
    "import matplotlib.pyplot as plt"
   ]
  },
  {
   "cell_type": "code",
   "execution_count": 2,
   "id": "7b1d7665",
   "metadata": {},
   "outputs": [],
   "source": [
    "smile = glob.glob(\"positives/*.jpg\")\n",
    "no_smile = glob.glob(\"negatives/*.jpg\")"
   ]
  },
  {
   "cell_type": "code",
   "execution_count": 3,
   "id": "bc29f978",
   "metadata": {},
   "outputs": [],
   "source": [
    "images=[]\n",
    "labels=[]\n",
    "\n",
    "for image in smile:\n",
    "    image = load_img(image, target_size=(32,32), color_mode='grayscale')\n",
    "    image = img_to_array(image)\n",
    "    label = 1 \n",
    "    label = float(label)\n",
    "    images.append(image)\n",
    "    labels.append(label)\n",
    "    \n",
    "for image in no_smile:\n",
    "    image = load_img(image, target_size=(32,32), color_mode='grayscale')\n",
    "    image = img_to_array(image)\n",
    "    label = 0\n",
    "    label = float(label)\n",
    "    images.append(image)\n",
    "    labels.append(label)"
   ]
  },
  {
   "cell_type": "code",
   "execution_count": 4,
   "id": "b31e0c3c",
   "metadata": {},
   "outputs": [],
   "source": [
    "X = np.array(images)\n",
    "y = np.array(labels)"
   ]
  },
  {
   "cell_type": "code",
   "execution_count": 5,
   "id": "f5326fe9",
   "metadata": {},
   "outputs": [
    {
     "data": {
      "text/plain": [
       "(13165, 32, 32, 1)"
      ]
     },
     "execution_count": 5,
     "metadata": {},
     "output_type": "execute_result"
    }
   ],
   "source": [
    "X.shape"
   ]
  },
  {
   "cell_type": "code",
   "execution_count": 6,
   "id": "e9a5f2f3",
   "metadata": {},
   "outputs": [
    {
     "data": {
      "text/plain": [
       "(13165,)"
      ]
     },
     "execution_count": 6,
     "metadata": {},
     "output_type": "execute_result"
    }
   ],
   "source": [
    "y.shape"
   ]
  },
  {
   "cell_type": "code",
   "execution_count": 7,
   "id": "226d507e",
   "metadata": {},
   "outputs": [],
   "source": [
    "X /= 255.0\n",
    "total = len(y)\n",
    "total_positive = np.sum(y)\n",
    "total_negative = total - total_positive"
   ]
  },
  {
   "cell_type": "code",
   "execution_count": 8,
   "id": "45ce3ff6",
   "metadata": {},
   "outputs": [],
   "source": [
    "(X_train, X_test, y_train, y_test) = train_test_split(X, y, test_size=0.2,stratify=y, random_state=999)"
   ]
  },
  {
   "cell_type": "code",
   "execution_count": 9,
   "id": "196f86f5",
   "metadata": {},
   "outputs": [],
   "source": [
    "(X_train, X_val, y_train, y_val) = train_test_split(X_train, y_train, test_size=0.2, stratify=y_train, random_state=999)"
   ]
  },
  {
   "cell_type": "code",
   "execution_count": 10,
   "id": "0076f871",
   "metadata": {},
   "outputs": [],
   "source": [
    "data_augmentation = keras.Sequential(\n",
    " [\n",
    " layers.RandomFlip(\"horizontal\"),\n",
    " layers.RandomRotation(0.1),\n",
    " layers.RandomZoom(0.2),\n",
    " ]\n",
    ")"
   ]
  },
  {
   "cell_type": "code",
   "execution_count": 11,
   "id": "6aa9c4a8",
   "metadata": {},
   "outputs": [
    {
     "name": "stdout",
     "output_type": "stream",
     "text": [
      "WARNING:tensorflow:Using a while_loop for converting RngReadAndSkip cause there is no registered converter for this op.\n",
      "WARNING:tensorflow:Using a while_loop for converting Bitcast cause there is no registered converter for this op.\n",
      "WARNING:tensorflow:Using a while_loop for converting Bitcast cause there is no registered converter for this op.\n",
      "WARNING:tensorflow:Using a while_loop for converting StatelessRandomUniformV2 cause there is no registered converter for this op.\n",
      "WARNING:tensorflow:Using a while_loop for converting ImageProjectiveTransformV3 cause there is no registered converter for this op.\n",
      "WARNING:tensorflow:Using a while_loop for converting RngReadAndSkip cause there is no registered converter for this op.\n",
      "WARNING:tensorflow:Using a while_loop for converting Bitcast cause there is no registered converter for this op.\n",
      "WARNING:tensorflow:Using a while_loop for converting Bitcast cause there is no registered converter for this op.\n",
      "WARNING:tensorflow:Using a while_loop for converting StatelessRandomUniformV2 cause there is no registered converter for this op.\n",
      "WARNING:tensorflow:Using a while_loop for converting ImageProjectiveTransformV3 cause there is no registered converter for this op.\n",
      "WARNING:tensorflow:Using a while_loop for converting RngReadAndSkip cause there is no registered converter for this op.\n",
      "WARNING:tensorflow:Using a while_loop for converting Bitcast cause there is no registered converter for this op.\n",
      "WARNING:tensorflow:Using a while_loop for converting Bitcast cause there is no registered converter for this op.\n",
      "WARNING:tensorflow:Using a while_loop for converting StatelessRandomUniformV2 cause there is no registered converter for this op.\n",
      "WARNING:tensorflow:Using a while_loop for converting ImageProjectiveTransformV3 cause there is no registered converter for this op.\n",
      "WARNING:tensorflow:Using a while_loop for converting RngReadAndSkip cause there is no registered converter for this op.\n",
      "WARNING:tensorflow:Using a while_loop for converting Bitcast cause there is no registered converter for this op.\n",
      "WARNING:tensorflow:Using a while_loop for converting Bitcast cause there is no registered converter for this op.\n",
      "WARNING:tensorflow:Using a while_loop for converting StatelessRandomUniformV2 cause there is no registered converter for this op.\n",
      "WARNING:tensorflow:Using a while_loop for converting ImageProjectiveTransformV3 cause there is no registered converter for this op.\n"
     ]
    }
   ],
   "source": [
    "inputs = Input(shape=(32, 32, 1))\n",
    "x = data_augmentation(inputs)\n",
    "x = Conv2D(filters=20,kernel_size=(5, 5), padding='same', strides=(1, 1))(x)\n",
    "x = ELU()(x)\n",
    "x = BatchNormalization()(x)\n",
    "x = MaxPooling2D(pool_size=(2, 2), strides=(2, 2))(x)\n",
    "x = Dropout(0.4)(x)\n",
    "x = Conv2D(filters=50, kernel_size=(5, 5), padding='same', strides=(1, 1))(x)\n",
    "x = ELU()(x)\n",
    "x = BatchNormalization()(x)\n",
    "x = MaxPooling2D(pool_size=(2, 2), strides=(2, 2))(x)\n",
    "x = Dropout(0.4)(x)\n",
    "x = Flatten()(x)\n",
    "x = Dense(units=500)(x)\n",
    "x = ELU()(x)\n",
    "x = Dropout(0.4)(x)\n",
    "output = Dense(1, activation='sigmoid')(x)\n",
    "model = Model(inputs=inputs, outputs=output)"
   ]
  },
  {
   "cell_type": "code",
   "execution_count": 12,
   "id": "c0262030",
   "metadata": {},
   "outputs": [
    {
     "name": "stdout",
     "output_type": "stream",
     "text": [
      "Model: \"model\"\n",
      "_________________________________________________________________\n",
      " Layer (type)                Output Shape              Param #   \n",
      "=================================================================\n",
      " input_1 (InputLayer)        [(None, 32, 32, 1)]       0         \n",
      "                                                                 \n",
      " sequential (Sequential)     (None, 32, 32, 1)         0         \n",
      "                                                                 \n",
      " conv2d (Conv2D)             (None, 32, 32, 20)        520       \n",
      "                                                                 \n",
      " elu (ELU)                   (None, 32, 32, 20)        0         \n",
      "                                                                 \n",
      " batch_normalization (BatchN  (None, 32, 32, 20)       80        \n",
      " ormalization)                                                   \n",
      "                                                                 \n",
      " max_pooling2d (MaxPooling2D  (None, 16, 16, 20)       0         \n",
      " )                                                               \n",
      "                                                                 \n",
      " dropout (Dropout)           (None, 16, 16, 20)        0         \n",
      "                                                                 \n",
      " conv2d_1 (Conv2D)           (None, 16, 16, 50)        25050     \n",
      "                                                                 \n",
      " elu_1 (ELU)                 (None, 16, 16, 50)        0         \n",
      "                                                                 \n",
      " batch_normalization_1 (Batc  (None, 16, 16, 50)       200       \n",
      " hNormalization)                                                 \n",
      "                                                                 \n",
      " max_pooling2d_1 (MaxPooling  (None, 8, 8, 50)         0         \n",
      " 2D)                                                             \n",
      "                                                                 \n",
      " dropout_1 (Dropout)         (None, 8, 8, 50)          0         \n",
      "                                                                 \n",
      " flatten (Flatten)           (None, 3200)              0         \n",
      "                                                                 \n",
      " dense (Dense)               (None, 500)               1600500   \n",
      "                                                                 \n",
      " elu_2 (ELU)                 (None, 500)               0         \n",
      "                                                                 \n",
      " dropout_2 (Dropout)         (None, 500)               0         \n",
      "                                                                 \n",
      " dense_1 (Dense)             (None, 1)                 501       \n",
      "                                                                 \n",
      "=================================================================\n",
      "Total params: 1,626,851\n",
      "Trainable params: 1,626,711\n",
      "Non-trainable params: 140\n",
      "_________________________________________________________________\n"
     ]
    }
   ],
   "source": [
    "model.summary()"
   ]
  },
  {
   "cell_type": "code",
   "execution_count": 13,
   "id": "6085f8f3",
   "metadata": {},
   "outputs": [],
   "source": [
    "model.compile(loss=\"binary_crossentropy\",\n",
    " optimizer=\"rmsprop\",\n",
    " metrics=[\"accuracy\"])"
   ]
  },
  {
   "cell_type": "code",
   "execution_count": 14,
   "id": "4ac756ab",
   "metadata": {},
   "outputs": [
    {
     "name": "stdout",
     "output_type": "stream",
     "text": [
      "Epoch 1/20\n",
      "WARNING:tensorflow:Using a while_loop for converting RngReadAndSkip cause there is no registered converter for this op.\n",
      "WARNING:tensorflow:Using a while_loop for converting Bitcast cause there is no registered converter for this op.\n",
      "WARNING:tensorflow:Using a while_loop for converting Bitcast cause there is no registered converter for this op.\n",
      "WARNING:tensorflow:Using a while_loop for converting StatelessRandomUniformV2 cause there is no registered converter for this op.\n",
      "WARNING:tensorflow:Using a while_loop for converting ImageProjectiveTransformV3 cause there is no registered converter for this op.\n",
      "WARNING:tensorflow:Using a while_loop for converting RngReadAndSkip cause there is no registered converter for this op.\n",
      "WARNING:tensorflow:Using a while_loop for converting Bitcast cause there is no registered converter for this op.\n",
      "WARNING:tensorflow:Using a while_loop for converting Bitcast cause there is no registered converter for this op.\n",
      "WARNING:tensorflow:Using a while_loop for converting StatelessRandomUniformV2 cause there is no registered converter for this op.\n",
      "WARNING:tensorflow:Using a while_loop for converting ImageProjectiveTransformV3 cause there is no registered converter for this op.\n",
      "WARNING:tensorflow:Using a while_loop for converting RngReadAndSkip cause there is no registered converter for this op.\n",
      "WARNING:tensorflow:Using a while_loop for converting Bitcast cause there is no registered converter for this op.\n",
      "WARNING:tensorflow:Using a while_loop for converting Bitcast cause there is no registered converter for this op.\n",
      "WARNING:tensorflow:Using a while_loop for converting StatelessRandomUniformV2 cause there is no registered converter for this op.\n",
      "WARNING:tensorflow:Using a while_loop for converting ImageProjectiveTransformV3 cause there is no registered converter for this op.\n",
      "WARNING:tensorflow:Using a while_loop for converting RngReadAndSkip cause there is no registered converter for this op.\n",
      "WARNING:tensorflow:Using a while_loop for converting Bitcast cause there is no registered converter for this op.\n",
      "WARNING:tensorflow:Using a while_loop for converting Bitcast cause there is no registered converter for this op.\n",
      "WARNING:tensorflow:Using a while_loop for converting StatelessRandomUniformV2 cause there is no registered converter for this op.\n",
      "WARNING:tensorflow:Using a while_loop for converting ImageProjectiveTransformV3 cause there is no registered converter for this op.\n",
      "264/264 [==============================] - 15s 46ms/step - loss: 2.0822 - accuracy: 0.6364 - val_loss: 0.5729 - val_accuracy: 0.7499\n",
      "Epoch 2/20\n",
      "264/264 [==============================] - 12s 44ms/step - loss: 1.2064 - accuracy: 0.7398 - val_loss: 0.3570 - val_accuracy: 0.8619\n",
      "Epoch 3/20\n",
      "264/264 [==============================] - 12s 47ms/step - loss: 1.0656 - accuracy: 0.7671 - val_loss: 0.7251 - val_accuracy: 0.6773\n",
      "Epoch 4/20\n",
      "264/264 [==============================] - 13s 48ms/step - loss: 0.9605 - accuracy: 0.7918 - val_loss: 0.6259 - val_accuracy: 0.6792\n",
      "Epoch 5/20\n",
      "264/264 [==============================] - 13s 47ms/step - loss: 0.9369 - accuracy: 0.7992 - val_loss: 0.4152 - val_accuracy: 0.8448\n",
      "Epoch 6/20\n",
      "264/264 [==============================] - 12s 46ms/step - loss: 0.8817 - accuracy: 0.8096 - val_loss: 0.5679 - val_accuracy: 0.6773\n",
      "Epoch 7/20\n",
      "264/264 [==============================] - 12s 46ms/step - loss: 0.8665 - accuracy: 0.8154 - val_loss: 0.2652 - val_accuracy: 0.8889\n",
      "Epoch 8/20\n",
      "264/264 [==============================] - 12s 46ms/step - loss: 0.8393 - accuracy: 0.8229 - val_loss: 0.3765 - val_accuracy: 0.8757\n",
      "Epoch 9/20\n",
      "264/264 [==============================] - 12s 47ms/step - loss: 0.8278 - accuracy: 0.8237 - val_loss: 1.7225 - val_accuracy: 0.3142\n",
      "Epoch 10/20\n",
      "264/264 [==============================] - 13s 47ms/step - loss: 0.8028 - accuracy: 0.8307 - val_loss: 0.3274 - val_accuracy: 0.8628\n",
      "Epoch 11/20\n",
      "264/264 [==============================] - 12s 47ms/step - loss: 0.8134 - accuracy: 0.8278 - val_loss: 0.2885 - val_accuracy: 0.8851\n",
      "Epoch 12/20\n",
      "264/264 [==============================] - 12s 45ms/step - loss: 0.7788 - accuracy: 0.8326 - val_loss: 0.3686 - val_accuracy: 0.8804\n",
      "Epoch 13/20\n",
      "264/264 [==============================] - 12s 46ms/step - loss: 0.7671 - accuracy: 0.8369 - val_loss: 0.3284 - val_accuracy: 0.8543\n",
      "Epoch 14/20\n",
      "264/264 [==============================] - 12s 46ms/step - loss: 0.7812 - accuracy: 0.8421 - val_loss: 0.3412 - val_accuracy: 0.8647\n",
      "Epoch 15/20\n",
      "264/264 [==============================] - 12s 46ms/step - loss: 0.7429 - accuracy: 0.8400 - val_loss: 0.3367 - val_accuracy: 0.8704\n",
      "Epoch 16/20\n",
      "264/264 [==============================] - 12s 47ms/step - loss: 0.7497 - accuracy: 0.8408 - val_loss: 0.6655 - val_accuracy: 0.7238\n",
      "Epoch 17/20\n",
      "264/264 [==============================] - 13s 48ms/step - loss: 0.7536 - accuracy: 0.8423 - val_loss: 0.3082 - val_accuracy: 0.8790\n",
      "Epoch 18/20\n",
      "264/264 [==============================] - 12s 46ms/step - loss: 0.7402 - accuracy: 0.8470 - val_loss: 0.2865 - val_accuracy: 0.8908\n",
      "Epoch 19/20\n",
      "264/264 [==============================] - 12s 46ms/step - loss: 0.7231 - accuracy: 0.8523 - val_loss: 0.3562 - val_accuracy: 0.8410\n",
      "Epoch 20/20\n",
      "264/264 [==============================] - 12s 46ms/step - loss: 0.7560 - accuracy: 0.8458 - val_loss: 0.3004 - val_accuracy: 0.8875\n"
     ]
    },
    {
     "data": {
      "text/plain": [
       "<keras.callbacks.History at 0x1891f61f7c0>"
      ]
     },
     "execution_count": 14,
     "metadata": {},
     "output_type": "execute_result"
    }
   ],
   "source": [
    "history = model.fit(X_train, y_train, validation_data=(X_val, y_val), epochs=20, batch_size=32,\n",
    "         class_weight={ 1.0: total / total_positive, 0.0: total / total_negative})"
   ]
  },
  {
   "cell_type": "code",
   "execution_count": 16,
   "id": "c896bd02",
   "metadata": {},
   "outputs": [
    {
     "name": "stdout",
     "output_type": "stream",
     "text": [
      "83/83 [==============================] - 1s 9ms/step - loss: 0.2655 - accuracy: 0.8997\n"
     ]
    }
   ],
   "source": [
    "test_loss, test_accuracy = model.evaluate(X_test, y_test)"
   ]
  },
  {
   "cell_type": "code",
   "execution_count": null,
   "id": "bcc8342e",
   "metadata": {},
   "outputs": [],
   "source": []
  }
 ],
 "metadata": {
  "kernelspec": {
   "display_name": "Python 3",
   "language": "python",
   "name": "python3"
  },
  "language_info": {
   "codemirror_mode": {
    "name": "ipython",
    "version": 3
   },
   "file_extension": ".py",
   "mimetype": "text/x-python",
   "name": "python",
   "nbconvert_exporter": "python",
   "pygments_lexer": "ipython3",
   "version": "3.8.8"
  }
 },
 "nbformat": 4,
 "nbformat_minor": 5
}
