{
 "cells": [
  {
   "cell_type": "code",
   "execution_count": 1,
   "id": "e4ecffb1",
   "metadata": {},
   "outputs": [],
   "source": [
    "import glob\n",
    "from PIL import Image\n",
    "import pathlib\n",
    "import numpy as np\n",
    "from sklearn.model_selection import train_test_split\n",
    "from tensorflow import keras \n",
    "from sklearn.preprocessing import LabelEncoder\n",
    "from tensorflow.keras import Model\n",
    "from tensorflow.keras.layers import *\n",
    "from tensorflow.keras.preprocessing.image import *\n",
    "import matplotlib.pyplot as plt"
   ]
  },
  {
   "cell_type": "code",
   "execution_count": 2,
   "id": "7b1d7665",
   "metadata": {},
   "outputs": [],
   "source": [
    "smile = glob.glob(\"positives/*.jpg\")\n",
    "no_smile = glob.glob(\"negatives/*.jpg\")"
   ]
  },
  {
   "cell_type": "code",
   "execution_count": 3,
   "id": "bc29f978",
   "metadata": {},
   "outputs": [],
   "source": [
    "images=[]\n",
    "labels=[]\n",
    "\n",
    "for image in smile:\n",
    "    image = load_img(image, target_size=(32,32), color_mode='grayscale')\n",
    "    image = img_to_array(image)\n",
    "    label = 1 \n",
    "    label = float(label)\n",
    "    images.append(image)\n",
    "    labels.append(label)\n",
    "    \n",
    "for image in no_smile:\n",
    "    image = load_img(image, target_size=(32,32), color_mode='grayscale')\n",
    "    image = img_to_array(image)\n",
    "    label = 0\n",
    "    label = float(label)\n",
    "    images.append(image)\n",
    "    labels.append(label)"
   ]
  },
  {
   "cell_type": "code",
   "execution_count": 4,
   "id": "b31e0c3c",
   "metadata": {},
   "outputs": [],
   "source": [
    "X = np.array(images)\n",
    "y = np.array(labels)"
   ]
  },
  {
   "cell_type": "code",
   "execution_count": 5,
   "id": "f96fbdcd",
   "metadata": {},
   "outputs": [
    {
     "data": {
      "text/plain": [
       "(13165, 32, 32, 1)"
      ]
     },
     "execution_count": 5,
     "metadata": {},
     "output_type": "execute_result"
    }
   ],
   "source": [
    "X.shape"
   ]
  },
  {
   "cell_type": "code",
   "execution_count": 6,
   "id": "e9a5f2f3",
   "metadata": {},
   "outputs": [
    {
     "data": {
      "text/plain": [
       "(13165,)"
      ]
     },
     "execution_count": 6,
     "metadata": {},
     "output_type": "execute_result"
    }
   ],
   "source": [
    "y.shape"
   ]
  },
  {
   "cell_type": "code",
   "execution_count": 7,
   "id": "226d507e",
   "metadata": {},
   "outputs": [],
   "source": [
    "X /= 255.0\n",
    "total = len(y)\n",
    "total_positive = np.sum(y)\n",
    "total_negative = total - total_positive"
   ]
  },
  {
   "cell_type": "code",
   "execution_count": 8,
   "id": "45ce3ff6",
   "metadata": {},
   "outputs": [],
   "source": [
    "(X_train, X_test, y_train, y_test) = train_test_split(X, y, test_size=0.2,stratify=y, random_state=999)"
   ]
  },
  {
   "cell_type": "code",
   "execution_count": 9,
   "id": "196f86f5",
   "metadata": {},
   "outputs": [],
   "source": [
    "(X_train, X_val, y_train, y_val) = train_test_split(X_train, y_train, test_size=0.2, stratify=y_train, random_state=999)"
   ]
  },
  {
   "cell_type": "code",
   "execution_count": 10,
   "id": "6aa9c4a8",
   "metadata": {},
   "outputs": [],
   "source": [
    "input_layer = Input(shape=(32, 32, 1))\n",
    "x = Conv2D(filters=20,kernel_size=(5, 5), padding='same', strides=(1, 1))(input_layer)\n",
    "x = ELU()(x)\n",
    "x = BatchNormalization()(x)\n",
    "x = MaxPooling2D(pool_size=(2, 2), strides=(2, 2))(x)\n",
    "x = Dropout(0.4)(x)\n",
    "x = Conv2D(filters=50, kernel_size=(5, 5), padding='same', strides=(1, 1))(x)\n",
    "x = ELU()(x)\n",
    "x = BatchNormalization()(x)\n",
    "x = MaxPooling2D(pool_size=(2, 2), strides=(2, 2))(x)\n",
    "x = Dropout(0.4)(x)\n",
    "x = Flatten()(x)\n",
    "x = Dense(units=500)(x)\n",
    "x = ELU()(x)\n",
    "x = Dropout(0.4)(x)\n",
    "output = Dense(1, activation='sigmoid')(x)\n",
    "model = Model(inputs=input_layer, outputs=output)"
   ]
  },
  {
   "cell_type": "code",
   "execution_count": 11,
   "id": "c0262030",
   "metadata": {},
   "outputs": [
    {
     "name": "stdout",
     "output_type": "stream",
     "text": [
      "Model: \"model\"\n",
      "_________________________________________________________________\n",
      " Layer (type)                Output Shape              Param #   \n",
      "=================================================================\n",
      " input_1 (InputLayer)        [(None, 32, 32, 1)]       0         \n",
      "                                                                 \n",
      " conv2d (Conv2D)             (None, 32, 32, 20)        520       \n",
      "                                                                 \n",
      " elu (ELU)                   (None, 32, 32, 20)        0         \n",
      "                                                                 \n",
      " batch_normalization (BatchN  (None, 32, 32, 20)       80        \n",
      " ormalization)                                                   \n",
      "                                                                 \n",
      " max_pooling2d (MaxPooling2D  (None, 16, 16, 20)       0         \n",
      " )                                                               \n",
      "                                                                 \n",
      " dropout (Dropout)           (None, 16, 16, 20)        0         \n",
      "                                                                 \n",
      " conv2d_1 (Conv2D)           (None, 16, 16, 50)        25050     \n",
      "                                                                 \n",
      " elu_1 (ELU)                 (None, 16, 16, 50)        0         \n",
      "                                                                 \n",
      " batch_normalization_1 (Batc  (None, 16, 16, 50)       200       \n",
      " hNormalization)                                                 \n",
      "                                                                 \n",
      " max_pooling2d_1 (MaxPooling  (None, 8, 8, 50)         0         \n",
      " 2D)                                                             \n",
      "                                                                 \n",
      " dropout_1 (Dropout)         (None, 8, 8, 50)          0         \n",
      "                                                                 \n",
      " flatten (Flatten)           (None, 3200)              0         \n",
      "                                                                 \n",
      " dense (Dense)               (None, 500)               1600500   \n",
      "                                                                 \n",
      " elu_2 (ELU)                 (None, 500)               0         \n",
      "                                                                 \n",
      " dropout_2 (Dropout)         (None, 500)               0         \n",
      "                                                                 \n",
      " dense_1 (Dense)             (None, 1)                 501       \n",
      "                                                                 \n",
      "=================================================================\n",
      "Total params: 1,626,851\n",
      "Trainable params: 1,626,711\n",
      "Non-trainable params: 140\n",
      "_________________________________________________________________\n"
     ]
    }
   ],
   "source": [
    "model.summary()"
   ]
  },
  {
   "cell_type": "code",
   "execution_count": 12,
   "id": "6085f8f3",
   "metadata": {},
   "outputs": [],
   "source": [
    "model.compile(loss=\"binary_crossentropy\",\n",
    " optimizer=\"rmsprop\",\n",
    " metrics=[\"accuracy\"])"
   ]
  },
  {
   "cell_type": "code",
   "execution_count": 13,
   "id": "4ac756ab",
   "metadata": {},
   "outputs": [
    {
     "name": "stdout",
     "output_type": "stream",
     "text": [
      "Epoch 1/20\n",
      "211/211 [==============================] - 10s 43ms/step - loss: 2.0122 - accuracy: 0.7308 - val_loss: 0.6653 - val_accuracy: 0.7579\n",
      "Epoch 2/20\n",
      "211/211 [==============================] - 9s 44ms/step - loss: 0.9465 - accuracy: 0.8169 - val_loss: 0.4036 - val_accuracy: 0.8676\n",
      "Epoch 3/20\n",
      "211/211 [==============================] - 9s 44ms/step - loss: 0.7944 - accuracy: 0.8461 - val_loss: 0.3810 - val_accuracy: 0.8391\n",
      "Epoch 4/20\n",
      "211/211 [==============================] - 9s 45ms/step - loss: 0.7443 - accuracy: 0.8588 - val_loss: 0.3442 - val_accuracy: 0.8614\n",
      "Epoch 5/20\n",
      "211/211 [==============================] - 9s 44ms/step - loss: 0.6626 - accuracy: 0.8692 - val_loss: 0.2661 - val_accuracy: 0.8946\n",
      "Epoch 6/20\n",
      "211/211 [==============================] - 9s 44ms/step - loss: 0.6143 - accuracy: 0.8788 - val_loss: 0.2850 - val_accuracy: 0.8927\n",
      "Epoch 7/20\n",
      "211/211 [==============================] - 9s 45ms/step - loss: 0.5735 - accuracy: 0.8884 - val_loss: 0.3858 - val_accuracy: 0.8358\n",
      "Epoch 8/20\n",
      "211/211 [==============================] - 10s 46ms/step - loss: 0.5359 - accuracy: 0.8929 - val_loss: 0.2370 - val_accuracy: 0.9056\n",
      "Epoch 9/20\n",
      "211/211 [==============================] - 10s 46ms/step - loss: 0.5231 - accuracy: 0.8961 - val_loss: 0.2720 - val_accuracy: 0.9051\n",
      "Epoch 10/20\n",
      "211/211 [==============================] - 9s 45ms/step - loss: 0.5070 - accuracy: 0.9009 - val_loss: 0.3243 - val_accuracy: 0.8571\n",
      "Epoch 11/20\n",
      "211/211 [==============================] - 10s 46ms/step - loss: 0.4650 - accuracy: 0.9052 - val_loss: 0.3540 - val_accuracy: 0.8747\n",
      "Epoch 12/20\n",
      "211/211 [==============================] - 10s 45ms/step - loss: 0.4464 - accuracy: 0.9128 - val_loss: 0.2503 - val_accuracy: 0.9041\n",
      "Epoch 13/20\n",
      "211/211 [==============================] - 9s 45ms/step - loss: 0.4496 - accuracy: 0.9136 - val_loss: 0.2681 - val_accuracy: 0.9122\n",
      "Epoch 14/20\n",
      "211/211 [==============================] - 9s 45ms/step - loss: 0.4430 - accuracy: 0.9151 - val_loss: 0.2995 - val_accuracy: 0.8904\n",
      "Epoch 15/20\n",
      "211/211 [==============================] - 9s 45ms/step - loss: 0.4220 - accuracy: 0.9176 - val_loss: 0.2889 - val_accuracy: 0.8956\n",
      "Epoch 16/20\n",
      "211/211 [==============================] - 9s 45ms/step - loss: 0.3944 - accuracy: 0.9257 - val_loss: 0.3266 - val_accuracy: 0.8956\n",
      "Epoch 17/20\n",
      "211/211 [==============================] - 10s 46ms/step - loss: 0.3778 - accuracy: 0.9307 - val_loss: 0.6028 - val_accuracy: 0.7964\n",
      "Epoch 18/20\n",
      "211/211 [==============================] - 9s 44ms/step - loss: 0.3592 - accuracy: 0.9288 - val_loss: 0.3733 - val_accuracy: 0.8984\n",
      "Epoch 19/20\n",
      "211/211 [==============================] - 9s 45ms/step - loss: 0.3658 - accuracy: 0.9296 - val_loss: 0.2912 - val_accuracy: 0.9032\n",
      "Epoch 20/20\n",
      "211/211 [==============================] - 9s 45ms/step - loss: 0.3508 - accuracy: 0.9378 - val_loss: 0.2554 - val_accuracy: 0.9155\n"
     ]
    }
   ],
   "source": [
    "history = model.fit(X_train, y_train, validation_data=(X_val, y_val), epochs=20, batch_size=32,\n",
    "         class_weight={ 1.0: total / total_positive, 0.0: total / total_negative})"
   ]
  },
  {
   "cell_type": "code",
   "execution_count": 14,
   "id": "c896bd02",
   "metadata": {},
   "outputs": [
    {
     "name": "stdout",
     "output_type": "stream",
     "text": [
      "83/83 [==============================] - 1s 9ms/step - loss: 0.2467 - accuracy: 0.9206\n"
     ]
    }
   ],
   "source": [
    "test_loss, test_accuracy = model.evaluate(X_test, y_test)"
   ]
  },
  {
   "cell_type": "code",
   "execution_count": 15,
   "id": "bcc8342e",
   "metadata": {},
   "outputs": [
    {
     "data": {
      "image/png": "[encoded data removed]",
      "text/plain": [
       "<Figure size 432x288 with 1 Axes>"
      ]
     },
     "metadata": {
      "needs_background": "light"
     },
     "output_type": "display_data"
    },
    {
     "data": {
      "image/png": "[encoded data removed]",
      "text/plain": [
       "<Figure size 432x288 with 1 Axes>"
      ]
     },
     "metadata": {
      "needs_background": "light"
     },
     "output_type": "display_data"
    }
   ],
   "source": [
    "accuracy = history.history[\"accuracy\"]\n",
    "val_accuracy = history.history[\"val_accuracy\"]\n",
    "loss = history.history[\"loss\"]\n",
    "val_loss = history.history[\"val_loss\"]\n",
    "epochs = range(1, len(accuracy) + 1)\n",
    "plt.plot(epochs, accuracy, \"bo\", label=\"Training accuracy\")\n",
    "plt.plot(epochs, val_accuracy, \"b\", label=\"Validation accuracy\")\n",
    "plt.title(\"Training and validation accuracy\")\n",
    "plt.legend()\n",
    "plt.figure()\n",
    "plt.plot(epochs, loss, \"bo\", label=\"Training loss\")\n",
    "plt.plot(epochs, val_loss, \"b\", label=\"Validation loss\")\n",
    "plt.title(\"Training and validation loss\")\n",
    "plt.legend()\n",
    "plt.show()"
   ]
  }
 ],
 "metadata": {
  "kernelspec": {
   "display_name": "Python 3",
   "language": "python",
   "name": "python3"
  },
  "language_info": {
   "codemirror_mode": {
    "name": "ipython",
    "version": 3
   },
   "file_extension": ".py",
   "mimetype": "text/x-python",
   "name": "python",
   "nbconvert_exporter": "python",
   "pygments_lexer": "ipython3",
   "version": "3.8.8"
  }
 },
 "nbformat": 4,
 "nbformat_minor": 5
}
