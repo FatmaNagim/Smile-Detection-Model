{
 "cells": [
  {
   "cell_type": "code",
   "execution_count": 1,
   "id": "e4ecffb1",
   "metadata": {},
   "outputs": [],
   "source": [
    "import glob\n",
    "from PIL import Image\n",
    "import pathlib\n",
    "import numpy as np\n",
    "from sklearn.model_selection import train_test_split\n",
    "from tensorflow import keras \n",
    "from sklearn.preprocessing import LabelEncoder\n",
    "from tensorflow.keras import Model\n",
    "from tensorflow.keras.layers import *\n",
    "from tensorflow.keras.preprocessing.image import *\n",
    "import matplotlib.pyplot as plt"
   ]
  },
  {
   "cell_type": "code",
   "execution_count": 2,
   "id": "7b1d7665",
   "metadata": {},
   "outputs": [],
   "source": [
    "smile = glob.glob(\"positives/*.jpg\")\n",
    "no_smile = glob.glob(\"negatives/*.jpg\")"
   ]
  },
  {
   "cell_type": "code",
   "execution_count": 3,
   "id": "bc29f978",
   "metadata": {},
   "outputs": [],
   "source": [
    "images=[]\n",
    "labels=[]\n",
    "\n",
    "for image in smile:\n",
    "    image = load_img(image, target_size=(32,32), color_mode='grayscale')\n",
    "    image = img_to_array(image)\n",
    "    label = 1 \n",
    "    label = float(label)\n",
    "    images.append(image)\n",
    "    labels.append(label)\n",
    "    \n",
    "for image in no_smile:\n",
    "    image = load_img(image, target_size=(32,32), color_mode='grayscale')\n",
    "    image = img_to_array(image)\n",
    "    label = 0\n",
    "    label = float(label)\n",
    "    images.append(image)\n",
    "    labels.append(label)"
   ]
  },
  {
   "cell_type": "code",
   "execution_count": 4,
   "id": "b31e0c3c",
   "metadata": {},
   "outputs": [],
   "source": [
    "X = np.array(images)\n",
    "y = np.array(labels)"
   ]
  },
  {
   "cell_type": "code",
   "execution_count": 5,
   "id": "44f50003",
   "metadata": {},
   "outputs": [
    {
     "data": {
      "text/plain": [
       "(13165, 32, 32, 1)"
      ]
     },
     "execution_count": 5,
     "metadata": {},
     "output_type": "execute_result"
    }
   ],
   "source": [
    "X.shape"
   ]
  },
  {
   "cell_type": "code",
   "execution_count": 6,
   "id": "e9a5f2f3",
   "metadata": {},
   "outputs": [
    {
     "data": {
      "text/plain": [
       "(13165,)"
      ]
     },
     "execution_count": 6,
     "metadata": {},
     "output_type": "execute_result"
    }
   ],
   "source": [
    "y.shape"
   ]
  },
  {
   "cell_type": "code",
   "execution_count": 7,
   "id": "226d507e",
   "metadata": {},
   "outputs": [],
   "source": [
    "X /= 255.0\n",
    "total = len(y)\n",
    "total_positive = np.sum(y)\n",
    "total_negative = total - total_positive"
   ]
  },
  {
   "cell_type": "code",
   "execution_count": 8,
   "id": "45ce3ff6",
   "metadata": {},
   "outputs": [],
   "source": [
    "(X_train, X_test, y_train, y_test) = train_test_split(X, y, test_size=0.2,stratify=y, random_state=999)"
   ]
  },
  {
   "cell_type": "code",
   "execution_count": 9,
   "id": "196f86f5",
   "metadata": {},
   "outputs": [],
   "source": [
    "(X_train, X_val, y_train, y_val) = train_test_split(X_train, y_train, test_size=0.2, stratify=y_train, random_state=999)"
   ]
  },
  {
   "cell_type": "code",
   "execution_count": 10,
   "id": "6aa9c4a8",
   "metadata": {},
   "outputs": [],
   "source": [
    "input_layer = Input(shape=(32, 32, 1))\n",
    "x = Conv2D(filters=20,kernel_size=(5, 5), padding='same', strides=(1, 1))(input_layer)\n",
    "x = ELU()(x)\n",
    "x = BatchNormalization()(x)\n",
    "x = MaxPooling2D(pool_size=(2, 2), strides=(2, 2))(x)\n",
    "x = Dropout(0.4)(x)\n",
    "x = Conv2D(filters=50, kernel_size=(5, 5), padding='same', strides=(1, 1))(x)\n",
    "x = ELU()(x)\n",
    "x = BatchNormalization()(x)\n",
    "x = MaxPooling2D(pool_size=(2, 2), strides=(2, 2))(x)\n",
    "x = Dropout(0.4)(x)\n",
    "x = Flatten()(x)\n",
    "x = Dense(units=500)(x)\n",
    "x = ELU()(x)\n",
    "x = Dropout(0.4)(x)\n",
    "output = Dense(1, activation='sigmoid')(x)\n",
    "model = Model(inputs=input_layer, outputs=output)"
   ]
  },
  {
   "cell_type": "code",
   "execution_count": 12,
   "id": "c0262030",
   "metadata": {},
   "outputs": [
    {
     "name": "stdout",
     "output_type": "stream",
     "text": [
      "Model: \"model\"\n",
      "_________________________________________________________________\n",
      " Layer (type)                Output Shape              Param #   \n",
      "=================================================================\n",
      " input_1 (InputLayer)        [(None, 32, 32, 1)]       0         \n",
      "                                                                 \n",
      " conv2d (Conv2D)             (None, 32, 32, 20)        520       \n",
      "                                                                 \n",
      " elu (ELU)                   (None, 32, 32, 20)        0         \n",
      "                                                                 \n",
      " batch_normalization (BatchN  (None, 32, 32, 20)       80        \n",
      " ormalization)                                                   \n",
      "                                                                 \n",
      " max_pooling2d (MaxPooling2D  (None, 16, 16, 20)       0         \n",
      " )                                                               \n",
      "                                                                 \n",
      " dropout (Dropout)           (None, 16, 16, 20)        0         \n",
      "                                                                 \n",
      " conv2d_1 (Conv2D)           (None, 16, 16, 50)        25050     \n",
      "                                                                 \n",
      " elu_1 (ELU)                 (None, 16, 16, 50)        0         \n",
      "                                                                 \n",
      " batch_normalization_1 (Batc  (None, 16, 16, 50)       200       \n",
      " hNormalization)                                                 \n",
      "                                                                 \n",
      " max_pooling2d_1 (MaxPooling  (None, 8, 8, 50)         0         \n",
      " 2D)                                                             \n",
      "                                                                 \n",
      " dropout_1 (Dropout)         (None, 8, 8, 50)          0         \n",
      "                                                                 \n",
      " flatten (Flatten)           (None, 3200)              0         \n",
      "                                                                 \n",
      " dense (Dense)               (None, 500)               1600500   \n",
      "                                                                 \n",
      " elu_2 (ELU)                 (None, 500)               0         \n",
      "                                                                 \n",
      " dropout_2 (Dropout)         (None, 500)               0         \n",
      "                                                                 \n",
      " dense_1 (Dense)             (None, 1)                 501       \n",
      "                                                                 \n",
      "=================================================================\n",
      "Total params: 1,626,851\n",
      "Trainable params: 1,626,711\n",
      "Non-trainable params: 140\n",
      "_________________________________________________________________\n"
     ]
    }
   ],
   "source": [
    "model.summary()"
   ]
  },
  {
   "cell_type": "code",
   "execution_count": 13,
   "id": "6085f8f3",
   "metadata": {},
   "outputs": [],
   "source": [
    "model.compile(loss=\"binary_crossentropy\",\n",
    " optimizer=\"rmsprop\",\n",
    " metrics=[\"accuracy\"])"
   ]
  },
  {
   "cell_type": "code",
   "execution_count": 14,
   "id": "4ac756ab",
   "metadata": {},
   "outputs": [
    {
     "name": "stdout",
     "output_type": "stream",
     "text": [
      "Epoch 1/20\n",
      "264/264 [==============================] - 11s 37ms/step - loss: 1.8252 - accuracy: 0.7410 - val_loss: 0.8766 - val_accuracy: 0.6825\n",
      "Epoch 2/20\n",
      "264/264 [==============================] - 10s 37ms/step - loss: 0.9266 - accuracy: 0.8227 - val_loss: 0.3054 - val_accuracy: 0.8685\n",
      "Epoch 3/20\n",
      "264/264 [==============================] - 11s 41ms/step - loss: 0.8048 - accuracy: 0.8466 - val_loss: 0.4794 - val_accuracy: 0.8752\n",
      "Epoch 4/20\n",
      "264/264 [==============================] - 11s 41ms/step - loss: 0.7391 - accuracy: 0.8561 - val_loss: 0.3253 - val_accuracy: 0.8505\n",
      "Epoch 5/20\n",
      "264/264 [==============================] - 10s 37ms/step - loss: 0.6629 - accuracy: 0.8707 - val_loss: 0.3853 - val_accuracy: 0.8856\n",
      "Epoch 6/20\n",
      "264/264 [==============================] - 10s 38ms/step - loss: 0.6083 - accuracy: 0.8798 - val_loss: 0.4560 - val_accuracy: 0.8358\n",
      "Epoch 7/20\n",
      "264/264 [==============================] - 10s 38ms/step - loss: 0.5654 - accuracy: 0.8914 - val_loss: 0.2517 - val_accuracy: 0.9075\n",
      "Epoch 8/20\n",
      "264/264 [==============================] - 10s 38ms/step - loss: 0.5370 - accuracy: 0.8999 - val_loss: 0.3516 - val_accuracy: 0.8462\n",
      "Epoch 9/20\n",
      "264/264 [==============================] - 10s 38ms/step - loss: 0.5093 - accuracy: 0.9022 - val_loss: 0.3379 - val_accuracy: 0.8942\n",
      "Epoch 10/20\n",
      "264/264 [==============================] - 10s 38ms/step - loss: 0.4892 - accuracy: 0.9086 - val_loss: 0.2332 - val_accuracy: 0.9169\n",
      "Epoch 11/20\n",
      "264/264 [==============================] - 10s 37ms/step - loss: 0.4743 - accuracy: 0.9123 - val_loss: 0.2940 - val_accuracy: 0.8847\n",
      "Epoch 12/20\n",
      "264/264 [==============================] - 10s 38ms/step - loss: 0.4480 - accuracy: 0.9145 - val_loss: 0.3219 - val_accuracy: 0.9013\n",
      "Epoch 13/20\n",
      "264/264 [==============================] - 10s 38ms/step - loss: 0.4435 - accuracy: 0.9166 - val_loss: 0.2949 - val_accuracy: 0.8970\n",
      "Epoch 14/20\n",
      "264/264 [==============================] - 10s 38ms/step - loss: 0.4373 - accuracy: 0.9205 - val_loss: 0.2825 - val_accuracy: 0.9075\n",
      "Epoch 15/20\n",
      "264/264 [==============================] - 10s 38ms/step - loss: 0.4142 - accuracy: 0.9207 - val_loss: 0.2719 - val_accuracy: 0.9079\n",
      "Epoch 16/20\n",
      "264/264 [==============================] - 10s 38ms/step - loss: 0.4079 - accuracy: 0.9250 - val_loss: 0.3092 - val_accuracy: 0.9060\n",
      "Epoch 17/20\n",
      "264/264 [==============================] - 10s 38ms/step - loss: 0.3792 - accuracy: 0.9268 - val_loss: 0.3267 - val_accuracy: 0.9018\n",
      "Epoch 18/20\n",
      "264/264 [==============================] - 10s 38ms/step - loss: 0.3529 - accuracy: 0.9348 - val_loss: 0.3567 - val_accuracy: 0.8937\n",
      "Epoch 19/20\n",
      "264/264 [==============================] - 10s 39ms/step - loss: 0.3793 - accuracy: 0.9320 - val_loss: 0.5762 - val_accuracy: 0.8837\n",
      "Epoch 20/20\n",
      "264/264 [==============================] - 11s 40ms/step - loss: 0.3418 - accuracy: 0.9369 - val_loss: 0.3227 - val_accuracy: 0.8956\n"
     ]
    },
    {
     "data": {
      "text/plain": [
       "<keras.callbacks.History at 0x21bfb3c2040>"
      ]
     },
     "execution_count": 14,
     "metadata": {},
     "output_type": "execute_result"
    }
   ],
   "source": [
    "model.fit(X_train, y_train, validation_data=(X_val, y_val), epochs=20, batch_size=32,\n",
    "         class_weight={ 1.0: total / total_positive, 0.0: total / total_negative})"
   ]
  },
  {
   "cell_type": "code",
   "execution_count": 15,
   "id": "c896bd02",
   "metadata": {},
   "outputs": [
    {
     "name": "stdout",
     "output_type": "stream",
     "text": [
      "83/83 [==============================] - 1s 8ms/step - loss: 0.3003 - accuracy: 0.8971\n"
     ]
    }
   ],
   "source": [
    "test_loss, test_accuracy = model.evaluate(X_test, y_test)"
   ]
  },
  {
   "cell_type": "code",
   "execution_count": null,
   "id": "bcc8342e",
   "metadata": {},
   "outputs": [],
   "source": []
  }
 ],
 "metadata": {
  "kernelspec": {
   "display_name": "Python 3",
   "language": "python",
   "name": "python3"
  },
  "language_info": {
   "codemirror_mode": {
    "name": "ipython",
    "version": 3
   },
   "file_extension": ".py",
   "mimetype": "text/x-python",
   "name": "python",
   "nbconvert_exporter": "python",
   "pygments_lexer": "ipython3",
   "version": "3.8.8"
  }
 },
 "nbformat": 4,
 "nbformat_minor": 5
}
